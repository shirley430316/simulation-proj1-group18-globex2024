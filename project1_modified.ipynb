{
 "cells": [
  {
   "cell_type": "code",
   "execution_count": 204,
   "metadata": {},
   "outputs": [],
   "source": [
    "import numpy as np\n",
    "import matplotlib.pyplot as plt\n"
   ]
  },
  {
   "cell_type": "code",
   "execution_count": 205,
   "metadata": {},
   "outputs": [
    {
     "data": {
      "text/plain": [
       "0.0"
      ]
     },
     "execution_count": 205,
     "metadata": {},
     "output_type": "execute_result"
    }
   ],
   "source": [
    "def objective_j(p,std_sample_time):\n",
    "\n",
    "    threshold = [2,3,1]\n",
    "    \n",
    "    rate = 0.3\n",
    "\n",
    "    def eta(i):\n",
    "        return np.random.normal(0, np.sqrt(i+1), size = std_sample_time)\n",
    "\n",
    "    def V():\n",
    "        return np.random.normal(0, 1, std_sample_time)\n",
    "\n",
    "    def W():\n",
    "        return np.random.exponential(rate, std_sample_time)\n",
    "\n",
    "    def Yi(xi):\n",
    "        return np.random.uniform(0, xi, std_sample_time)\n",
    "    \n",
    "    Yi_values= np.zeros((3,std_sample_time))\n",
    "    xi_values = np.zeros((3,std_sample_time))\n",
    "    PiYi = np.zeros(std_sample_time)\n",
    "\n",
    "    for i in range(3):\n",
    "\n",
    "        xi_values[i] = (0.6 * V() + 0.8 * eta(i)) / (np.maximum(W(), 1))\n",
    "        Yi_values[i] = np.where(xi_values[i] >= threshold[i], Yi(xi_values[i]), 0)\n",
    "\n",
    "        if i != 2:\n",
    "            PiYi += p[i] * Yi_values[i]\n",
    "        else:\n",
    "            PiYi += (1-p[0]-p[1]) * Yi_values[2]\n",
    "        \n",
    "    result_std = np.std(PiYi)\n",
    "\n",
    "    return PiYi[0] / result_std if result_std!=0 else 0\n",
    "\n",
    "objective_j([0.6,0.4],10)"
   ]
  },
  {
   "cell_type": "code",
   "execution_count": 206,
   "metadata": {},
   "outputs": [
    {
     "data": {
      "text/plain": [
       "0.0861980057236467"
      ]
     },
     "execution_count": 206,
     "metadata": {},
     "output_type": "execute_result"
    }
   ],
   "source": [
    "def exp_objective_j(p,sample_for_exp,N):\n",
    "    j_values = np.zeros(sample_for_exp)\n",
    "    for i in range(sample_for_exp):\n",
    "        j_values[i] = objective_j(p,N)\n",
    "    return j_values.mean()\n",
    "\n",
    "exp_objective_j([0.6,0.4],5000,10)"
   ]
  },
  {
   "cell_type": "code",
   "execution_count": 207,
   "metadata": {},
   "outputs": [
    {
     "data": {
      "text/plain": [
       "array([-4.68412156, -4.68412156])"
      ]
     },
     "execution_count": 207,
     "metadata": {},
     "output_type": "execute_result"
    }
   ],
   "source": [
    "def estimate_gradient(p, i, rng):\n",
    "    delta_i = rng.choice((-1, 1), size = 2)\n",
    "    eta_i = 1/(10 + np.power(i,1/4))\n",
    "\n",
    "    perturbation_high = p + eta_i * delta_i\n",
    "    perturbation_low = p - eta_i * delta_i\n",
    "    obj_perturbation_high = exp_objective_j(perturbation_high, EXP_SAMPLE_TIME, STD_SAMPLE_TIME)\n",
    "    obj_perturbation_low = exp_objective_j(perturbation_low, EXP_SAMPLE_TIME, STD_SAMPLE_TIME)\n",
    "    numerator = obj_perturbation_high - obj_perturbation_low\n",
    "    denominator = 2*eta_i*delta_i\n",
    "    gradient_estimate = np.divide(numerator, denominator)\n",
    "\n",
    "    return gradient_estimate\n",
    "\n",
    "estimate_gradient([0.6,0.4], 1, np.random.default_rng())"
   ]
  },
  {
   "cell_type": "code",
   "execution_count": 208,
   "metadata": {},
   "outputs": [],
   "source": [
    "def project_onto_plane(p):\n",
    "    \n",
    "    if 1 >= p[0] >= 0 and 1 >= p[1] >= 0 and 0 <= p[0] + p[1] <= 1:\n",
    "        return p\n",
    "    else:\n",
    "        if p[0] < 0:\n",
    "            p[0] = 0\n",
    "        if p[1] < 0:\n",
    "            p[1] = 0\n",
    "        if p[0] + p[1] > 1:\n",
    "            if p[1] - p[0] > 1:\n",
    "                return [0,1]\n",
    "            elif p[1] - p[0] < -1:\n",
    "                return [1,0]\n",
    "            else:\n",
    "                tmp0, tmp1 = p[0],p[1]\n",
    "                p[0] = (tmp0 - tmp1 + 1) / 2\n",
    "                p[1] = (tmp1 - tmp0 + 1) / 2\n",
    "    return p"
   ]
  },
  {
   "cell_type": "code",
   "execution_count": 209,
   "metadata": {},
   "outputs": [],
   "source": [
    "# The SPSA algorithm\n",
    "def SPSA(SEED, p_0, EPSILON_TYPE, EPSILON_VALUE, NR_ITERATIONS):\n",
    "    rng = np.random.default_rng(SEED)\n",
    "    p_set = np.zeros((NR_ITERATIONS+1, 2))  # 2 is the number of elements in each p vector\n",
    "    gradients = np.zeros((NR_ITERATIONS, 2))\n",
    "    objective_values = np.zeros(NR_ITERATIONS+1)\n",
    "    p_set[0] = p_0\n",
    "    objective_values[0] = exp_objective_j(p_set[0], EXP_SAMPLE_TIME, STD_SAMPLE_TIME)\n",
    "\n",
    "    for i in range(NR_ITERATIONS):\n",
    "        g = estimate_gradient(p_set[i], i, rng)\n",
    "        gradients[i] = g\n",
    "        if EPSILON_TYPE == 'fixed':\n",
    "            p_set[i+1] = p_set[i] + EPSILON_VALUE * g\n",
    "        if EPSILON_TYPE == 'decreasing':\n",
    "            p_set[i+1] = p_set[i] + 1/(i+1) * g\n",
    "        p_set[i+1] = project_onto_plane(p_set[i+1])\n",
    "        objective_values[i+1] = exp_objective_j(p_set[i+1], EXP_SAMPLE_TIME, STD_SAMPLE_TIME)\n",
    "        \n",
    "    return p_set, gradients, objective_values"
   ]
  },
  {
   "cell_type": "code",
   "execution_count": 210,
   "metadata": {},
   "outputs": [],
   "source": [
    "p_0 = np.array([0.37, 0.20])\n",
    "SEED = 1\n",
    "EPSILON_TYPE = 'fixed'  # \"fixed\" or \"decreasing\"\n",
    "EPSILON_VALUE = 0.001\n",
    "NR_ITERATIONS = 2000\n",
    "EXP_SAMPLE_TIME = 1000 # each round to get expected value\n",
    "STD_SAMPLE_TIME = 10"
   ]
  },
  {
   "cell_type": "code",
   "execution_count": 211,
   "metadata": {},
   "outputs": [],
   "source": [
    "def draw_p_graph_modified(thetas,object_values,gradients):\n",
    "\n",
    "    if thetas.shape[1] == 2:\n",
    "        #2-dimensional plots.\n",
    "        fig, axs = plt.subplots(2, 2, figsize=(10,10))\n",
    "\n",
    "        # Plot the iterate\n",
    "        axs[0,0].plot(thetas.T[0], color=\"darkblue\", label = r'$p_1$')\n",
    "        axs[0,0].plot(thetas.T[1], color=\"deepskyblue\", label = r'$p_2$')\n",
    "        \n",
    "        p0_sol = np.mean(thetas.T[0][int(0.75*NR_ITERATIONS):])\n",
    "        p1_sol = np.mean(thetas.T[1][int(0.75*NR_ITERATIONS):])\n",
    "        \n",
    "        axs[0,0].axhline(y=p0_sol, color='black', linestyle='--')\n",
    "        axs[0,0].axhline(y=p1_sol, color='black', linestyle='--')\n",
    "\n",
    "        print(f\"p1: {p0_sol}\")\n",
    "        print(f\"p2: {p1_sol}\")\n",
    "\n",
    "        axs[0,0].set_xlabel(\"Iteration\")\n",
    "        axs[0,0].legend()\n",
    "\n",
    "        # plot contour\n",
    "        r = 1\n",
    "        x = np.linspace(0, r, 5)\n",
    "        y = np.linspace(0, r, 5)\n",
    "\n",
    "        X, Y = np.meshgrid(x, y)\n",
    "        Z = np.array([[ exp_objective_j( [X[i,j], Y[i,j]], EXP_SAMPLE_TIME, STD_SAMPLE_TIME) for j in range(len(x))] for i in range(len(x))])\n",
    "\n",
    "        CS = axs[0,1].contour(X, Y, Z)\n",
    "        axs[0,1].clabel(CS, inline=1, fontsize=10)\n",
    "\n",
    "        axs[0,1].plot(thetas.T[0], thetas.T[1], c=\"red\", linewidth=1)\n",
    "        axs[0,1].set_xlim(0,r)\n",
    "        axs[0,1].set_ylim(0,r)\n",
    "        axs[0,1].set_xlabel(r\"$p_1$\")\n",
    "        axs[0,1].set_ylabel(r\"$p_2$\") \n",
    "\n",
    "        # Plot the objective values\n",
    "        axs[1,0].plot(object_values, color=\"darkblue\")\n",
    "        axs[1,0].set_xlabel(\"Iteration\")\n",
    "        result_mean = np.mean(object_values[int(0.75 * NR_ITERATIONS):])\n",
    "        axs[1, 0].axhline(y=result_mean, color='black', linestyle='--')\n",
    "        print(f\"Result mean of last 25% run: {result_mean}\")\n",
    "\n",
    "        # Plot the estimated gradients\n",
    "        axs[1,1].plot(gradients.T[0], color=\"darkblue\", label = r'$g^{SPSA}_1$')\n",
    "        axs[1,1].plot(gradients.T[1], color=\"deepskyblue\", label = r'$g^{SPSA}_2$')\n",
    "        axs[1,1].set_xlabel(\"Iteration\")\n",
    "        axs[1,1].set_ylabel(r\"$g^{SPSA}$($p_n$)\")\n",
    "        axs[1,1].set_title(r\"$g^{SPSA}$($p_n$)\")\n",
    "        axs[1,1].legend()\n",
    "\n",
    "          # Plot the 3D graph\n",
    "        fig = plt.figure(figsize=(8, 6))\n",
    "        ax = fig.add_subplot(111, projection='3d')\n",
    "        ax.plot(thetas.T[0], thetas.T[1], object_values, 'r')\n",
    "        ax.set_xlabel(r\"$p_1$\")\n",
    "        ax.set_ylabel(r\"$p_2$\")\n",
    "        ax.set_zlabel(r\"f($J(p)$)\")\n",
    "        ax.set_title(\"Objective Values in 3D\")\n",
    "\n",
    "        "
   ]
  },
  {
   "cell_type": "code",
   "execution_count": null,
   "metadata": {},
   "outputs": [],
   "source": [
    "p_set,gradients,object_values = SPSA(SEED, p_0, EPSILON_TYPE, EPSILON_VALUE, NR_ITERATIONS)\n",
    "draw_p_graph_modified(p_set,object_values,gradients)"
   ]
  }
 ],
 "metadata": {
  "kernelspec": {
   "display_name": "base",
   "language": "python",
   "name": "python3"
  },
  "language_info": {
   "codemirror_mode": {
    "name": "ipython",
    "version": 3
   },
   "file_extension": ".py",
   "mimetype": "text/x-python",
   "name": "python",
   "nbconvert_exporter": "python",
   "pygments_lexer": "ipython3",
   "version": "3.11.4"
  },
  "orig_nbformat": 4
 },
 "nbformat": 4,
 "nbformat_minor": 2
}
